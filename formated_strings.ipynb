{
  "nbformat": 4,
  "nbformat_minor": 0,
  "metadata": {
    "colab": {
      "provenance": [],
      "authorship_tag": "ABX9TyMerOYn4pwOvma/AFZCTPZ1"
    },
    "kernelspec": {
      "name": "python3",
      "display_name": "Python 3"
    },
    "language_info": {
      "name": "python"
    }
  },
  "cells": [
    {
      "cell_type": "code",
      "execution_count": null,
      "metadata": {
        "id": "ym6y7es1nzUj"
      },
      "outputs": [],
      "source": [
        "#variables\n",
        "topic = \"Formated Strings\"\n",
        "methodNo1 =1\n",
        "methodNo2 =2\n",
        "methodNo3 =3"
      ]
    },
    {
      "cell_type": "code",
      "source": [
        "#Using + operator\n",
        "intro_concat = str(methodNo1)+\". Python Shorts on \" + topic\n",
        "print(intro_concat)"
      ],
      "metadata": {
        "colab": {
          "base_uri": "https://localhost:8080/"
        },
        "id": "re63DU-fqhdT",
        "outputId": "052ad681-a524-47b3-f15b-b232c3e7237b"
      },
      "execution_count": null,
      "outputs": [
        {
          "output_type": "stream",
          "name": "stdout",
          "text": [
            "1. Python Shorts on Formated Strings\n"
          ]
        }
      ]
    },
    {
      "cell_type": "code",
      "source": [
        "#Using .format() method\n",
        "intro_format_method =\"{}. Python Shorts on {}\".format(methodNo2,topic)\n",
        "print(intro_format_method)"
      ],
      "metadata": {
        "colab": {
          "base_uri": "https://localhost:8080/"
        },
        "id": "0prfQapfrWsW",
        "outputId": "af1f39b4-cde3-405c-c578-e9ccbc071997"
      },
      "execution_count": null,
      "outputs": [
        {
          "output_type": "stream",
          "name": "stdout",
          "text": [
            "2. Python Shorts on Formated Strings\n"
          ]
        }
      ]
    },
    {
      "cell_type": "code",
      "source": [
        "#Using f strings\n",
        "intro_fstring_method =f\"{methodNo3}. Python Shorts on {topic}\"\n",
        "print(intro_fstring_method)"
      ],
      "metadata": {
        "colab": {
          "base_uri": "https://localhost:8080/"
        },
        "id": "If3RlYc9rZf6",
        "outputId": "2794c27d-10cc-4742-94b5-0a703accb534"
      },
      "execution_count": null,
      "outputs": [
        {
          "output_type": "stream",
          "name": "stdout",
          "text": [
            "3. Python Shorts on Formated Strings\n"
          ]
        }
      ]
    }
  ]
}